{
 "cells": [
  {
   "cell_type": "markdown",
   "id": "e27d41db",
   "metadata": {},
   "source": [
    "<h1>Lógica de Programação e Análise de Dados em Python: \n",
    "    \n",
    "Um Guia Inicial com ChatGPT</h1>\n",
    "\n",
    "<b>Instrutora:</b> Kétlen Dávila (ketlendavila@bemol.com.br)\n",
    "\n",
    "<b>Data:</b> Quarta-feira, 28 de Agosto de 2024\n",
    "\n",
    "<b>Modalidade:</b> Remota\n",
    "\n",
    "<b>Horário:</b> 14 às 16 h\n",
    "\n",
    "<b>Carga Horária:</b> 2 h\n",
    "\n",
    "\n",
    "<h3>Objetivos:</h3>\n",
    "<ul>\n",
    "<li>Introduzir os participantes à lógica de programação em Python.</li> \n",
    "<li>Trabalhar conceitos básicos de análise de dados.</li> \n",
    "<li>Demonstrar como usar o ChatGPT para resolver problemas e obter ajuda durante o desenvolvimento.</li> \n",
    "</ul>\n",
    "\n",
    "<h3>Conteúdo:</h3>\n",
    "\n",
    "<h4>Parte 1: Introdução à Lógica de Programação em Python</h4>\n",
    "<ol>\n",
    "<li>Abertura e Introdução</li> \n",
    "<li>Conceitos Básicos de Programação</li> \n",
    "<li>Estruturas de Repetição</li> \n",
    "<li>Funções em Python</li> \n",
    "<li>Sessão de Perguntas Rápidas</li> \n",
    "</ol>\n",
    "\n",
    "<h4>Parte 2: Introdução à Análise de Dados com Python</h4>\n",
    "<ol>\n",
    "<li>Abertura da Sessão de Análise de Dados</li>  \n",
    "<li>Manipulação de Dados com Pandas</li>  \n",
    "<li>Introdução à Visualização de Dados</li>  \n",
    "<li>Utilizando o ChatGPT para Resolução de Problemas</li>  \n",
    "<li>Sessão de Perguntas Finais e Encerramento</li> \n",
    "</ol>"
   ]
  },
  {
   "cell_type": "markdown",
   "id": "aef8b36a",
   "metadata": {},
   "source": [
    "# Parte 1: Introdução à Lógica de Programação em Python"
   ]
  },
  {
   "cell_type": "markdown",
   "id": "b58122d4",
   "metadata": {},
   "source": [
    "<img src=\"https://i.ytimg.com/vi/S3okwVkxDgA/maxresdefault.jpg\" alt=\"Descrição da Imagem\" width=\"400\"/>"
   ]
  },
  {
   "cell_type": "markdown",
   "id": "b6a3c531",
   "metadata": {},
   "source": [
    "## <font color=\"blue\">1.1 Abertura e Introdução</font>"
   ]
  },
  {
   "cell_type": "markdown",
   "id": "f42fd5c1",
   "metadata": {},
   "source": [
    "### Operações Matemáticas no Python\n",
    "\n",
    "1. Adição -> +\n",
    "2. Subtração -> -\n",
    "3. Divisão -> /\n",
    "4. Multiplicação -> *\n",
    "5. Mod (resto da divisão) -> %"
   ]
  },
  {
   "cell_type": "code",
   "execution_count": null,
   "id": "71f4c3d7",
   "metadata": {},
   "outputs": [],
   "source": [
    "#adição\n",
    "print(3 + 5)\n",
    "\n",
    "#subtração\n",
    "print(5 - 3)\n",
    "\n",
    "#divisão\n",
    "print(5 / 3)\n",
    "\n",
    "#multiplicação\n",
    "print(5 * 3)\n",
    "\n",
    "#mod (resto da divisão de 5 por 3)\n",
    "print(5 % 3)"
   ]
  },
  {
   "cell_type": "markdown",
   "id": "0b800d3a",
   "metadata": {},
   "source": [
    "### Operações Básicas com String\n",
    "\n",
    "1. Concatenar -> +\n",
    "2. Verificar se um texto está contido dentro do outro -> in"
   ]
  },
  {
   "cell_type": "code",
   "execution_count": null,
   "id": "5ad4207d",
   "metadata": {},
   "outputs": [],
   "source": [
    "#Concatenar\n",
    "print('O faturamento da loja foi ' + '1000')\n",
    "\n",
    "#Verificar se um texto está dentro do outro\n",
    "print('@' in 'emailcorporativo@gmail.com')"
   ]
  },
  {
   "cell_type": "markdown",
   "id": "eb1aa0be",
   "metadata": {},
   "source": [
    "### Variável\n",
    "\n",
    "variavel = valor"
   ]
  },
  {
   "cell_type": "code",
   "execution_count": null,
   "id": "e234f3a9",
   "metadata": {},
   "outputs": [],
   "source": [
    "faturamento = 1500\n",
    "custo = 500\n",
    "\n",
    "lucro = faturamento - custo \n",
    "\n",
    "print(faturamento)\n",
    "print(lucro)"
   ]
  },
  {
   "cell_type": "markdown",
   "id": "c8a1aed1",
   "metadata": {},
   "source": [
    "### Pegar informações do Usuário\n",
    "\n",
    "variavel = input('Texto para o Usuário')"
   ]
  },
  {
   "cell_type": "code",
   "execution_count": null,
   "id": "7f523e6e",
   "metadata": {},
   "outputs": [],
   "source": [
    "#para cadastrar um cliente\n",
    "cpf = input('Digite seu cpf (apenas números, sem pontos e traços)')\n",
    "print('O cpf do cliente é ' + cpf)"
   ]
  },
  {
   "cell_type": "markdown",
   "id": "62da7d59",
   "metadata": {},
   "source": [
    "### Comparadores"
   ]
  },
  {
   "cell_type": "raw",
   "id": "5f81bdcf",
   "metadata": {},
   "source": [
    "==    igual\n",
    "!=    diferente\n",
    ">     maior que (>= maior ou igual)\n",
    "<     menor que (<= menor ou igual)\n",
    "in    texto existe dentro de outro texto \n",
    "not   verifica o contrário da comparação\n",
    "\n",
    "Obs: Se em alguma condição você não quiser fazer nada, você pode simplesmente escrever:\n",
    "pass"
   ]
  },
  {
   "cell_type": "code",
   "execution_count": null,
   "id": "8fd2b9c7",
   "metadata": {},
   "outputs": [],
   "source": [
    "faturamento_loja_1 = 2500\n",
    "faturamento_loja_2 = 2200\n",
    "\n",
    "print('Programa 1')\n",
    "if faturamento_loja_1 == faturamento_loja_2:\n",
    "    print('Os faturamentos são iguais')\n",
    "else:\n",
    "    print('Os faturamentos são diferentes')"
   ]
  },
  {
   "cell_type": "code",
   "execution_count": null,
   "id": "a5537280",
   "metadata": {},
   "outputs": [],
   "source": [
    "email = \"chatgpt@gmail.com\"\n",
    "\n",
    "print('Programa 2')\n",
    "if email != 'chatgpt@gmail.com':\n",
    "    print('Esse não é o email do chatgpt')\n",
    "else:\n",
    "    print('Email correto')"
   ]
  },
  {
   "cell_type": "code",
   "execution_count": null,
   "id": "2f32e950",
   "metadata": {},
   "outputs": [],
   "source": [
    "print('Programa 3')\n",
    "email_usuario = input('Insira seu e-mail:')\n",
    "if not '@bemol.com' in email_usuario:\n",
    "    print('Email Inválido')\n",
    "else:\n",
    "    pass"
   ]
  },
  {
   "cell_type": "markdown",
   "id": "4c833abe",
   "metadata": {},
   "source": [
    "## <font color=\"blue\">Exercícios - Operações, Variáveis e Input</font>"
   ]
  },
  {
   "cell_type": "markdown",
   "id": "3c1a593e",
   "metadata": {},
   "source": [
    "# < Prompt >\n",
    "\n",
    "<br>\n",
    "\n",
    "Vamos trabalhar em Python. Primeiro, use o bloco abaixo para criar todas as variáveis necessárias:\n",
    "\n",
    "Quantidade de Vendas de Coca = `1500`\n",
    "\n",
    "Quantidade de Vendas de Pepsi = `1300`\n",
    "\n",
    "Preço Unitário da Coca = `1,50`\n",
    "\n",
    "Preço Unitário da Pepsi = `1,50`\n",
    "\n",
    "Custo da Loja: `3.500,00`"
   ]
  },
  {
   "cell_type": "code",
   "execution_count": null,
   "id": "532b741d",
   "metadata": {},
   "outputs": [],
   "source": []
  },
  {
   "cell_type": "markdown",
   "id": "9f8add7f",
   "metadata": {},
   "source": [
    "# < Prompt >\n",
    "\n",
    "Responda: Qual foi o faturamento de Pepsi da Loja?"
   ]
  },
  {
   "cell_type": "code",
   "execution_count": null,
   "id": "a2ebd2e6",
   "metadata": {},
   "outputs": [],
   "source": []
  },
  {
   "cell_type": "markdown",
   "id": "dda05857",
   "metadata": {},
   "source": [
    "# < Prompt >\n",
    "\n",
    "Responda: Qual foi o faturamento de Coca da Loja?"
   ]
  },
  {
   "cell_type": "code",
   "execution_count": null,
   "id": "92c4f75a",
   "metadata": {},
   "outputs": [],
   "source": []
  },
  {
   "cell_type": "markdown",
   "id": "fc62bfbc",
   "metadata": {},
   "source": [
    "# < Prompt >\n",
    "\n",
    "Responda: Qual foi o Lucro da loja?"
   ]
  },
  {
   "cell_type": "code",
   "execution_count": null,
   "id": "b4bc87d2",
   "metadata": {},
   "outputs": [],
   "source": []
  },
  {
   "cell_type": "markdown",
   "id": "460fcc59",
   "metadata": {},
   "source": [
    "# < Prompt >\n",
    "\n",
    "Responda: Qual foi a Margem da Loja? (Lembre-se, margem = Lucro / Faturamento). Expresse em percentual, formatando a saída do print."
   ]
  },
  {
   "cell_type": "code",
   "execution_count": null,
   "id": "180a04c6",
   "metadata": {},
   "outputs": [],
   "source": []
  },
  {
   "cell_type": "markdown",
   "id": "199e818d",
   "metadata": {},
   "source": [
    "## <font color=\"blue\">Exercícios - Inputs e Strings</font>"
   ]
  },
  {
   "cell_type": "markdown",
   "id": "970963b2",
   "metadata": {},
   "source": [
    "# < Prompt >\n",
    "\n",
    "A maioria das empresas utiliza um código específico para cada produto que possuem. A Companhia Drink, por exemplo, tem mais de 1.000 produtos e atribui um código a cada um deles.\n",
    "\n",
    "Exemplos:\n",
    "- Coca -> Código: BEB1300543\n",
    "- Pepsi -> Código: BEB1300545\n",
    "- Vinho Primitivo Lucarelli -> Código: BAC1546001\n",
    "- Vodka Smirnoff -> Código: BAC17675002\n",
    "\n",
    "Note que todas as bebidas não alcoólicas têm o início do código como \"BEB\", enquanto todas as bebidas alcoólicas começam com \"BAC\".\n",
    "\n",
    "Crie um programa de consulta de bebida que, dado um código qualquer, identifique se a bebida é alcoólica. O programa deve retornar `True` para bebidas alcoólicas e `False` para bebidas não alcoólicas. Para inserir um código, use um `input` do usuário e utilize apenas estruturas condicionais.\n",
    "\n",
    "Dica: Lembre-se de usar o comando `in` para strings e insira os códigos com letras maiúsculas para facilitar."
   ]
  },
  {
   "cell_type": "code",
   "execution_count": null,
   "id": "013c41a7",
   "metadata": {},
   "outputs": [],
   "source": []
  },
  {
   "cell_type": "markdown",
   "id": "cb6e269a",
   "metadata": {},
   "source": [
    "## <font color=\"blue\">1.2 Conceitos Básicos de Programação</font>"
   ]
  },
  {
   "cell_type": "markdown",
   "id": "c67232f1",
   "metadata": {},
   "source": [
    "# Condições no Python -> If\n",
    "\n",
    "## Estrutura:\n",
    "\n",
    "### Uso mais simples:"
   ]
  },
  {
   "cell_type": "raw",
   "id": "f0ff627a",
   "metadata": {},
   "source": [
    "if condição:\n",
    "    o que fazer caso a condição seja verdadeira"
   ]
  },
  {
   "cell_type": "markdown",
   "id": "958349ae",
   "metadata": {},
   "source": [
    "Exemplo:\n",
    "Pense em um jogo onde você decide se alguém ganhou, perdeu ou empatou:\n",
    "    \n",
    "Se a pontuação for maior que `30`, aparece \"Você ganhou!\".\n",
    "\n",
    "Se a pontuação for exatamente `30`, aparece \"Você empatou!\".\n",
    "\n",
    "Se for menor que `30`, aparece \"Você perdeu!\"."
   ]
  },
  {
   "cell_type": "code",
   "execution_count": null,
   "id": "3ac83447",
   "metadata": {},
   "outputs": [],
   "source": [
    "pontuacao = 20\n",
    "\n",
    "if pontuacao > 30:\n",
    "    print(\"Você ganhou!\")\n",
    "elif pontuacao == 30:\n",
    "    print(\"Você empatou!\")\n",
    "else:\n",
    "    print(\"Você perdeu!\")"
   ]
  },
  {
   "cell_type": "markdown",
   "id": "7495b726",
   "metadata": {},
   "source": [
    "## <font color=\"blue\">Exercícios - If (condição verdadeira)</font>"
   ]
  },
  {
   "cell_type": "markdown",
   "id": "2b3e5681",
   "metadata": {},
   "source": [
    "# < Prompt >\n",
    "\n",
    "Imagine que você trabalha em uma loja e está analisando o resultado das vendas de produtos.\n",
    "\n",
    "Você precisa criar um programa que analise o desempenho de vendas de um produto durante o mês. Para simplificar, vamos considerar apenas um produto: o iPhone.\n",
    "\n",
    "- Meta de Vendas do iPhone: 50.000 unidades\n",
    "- Quantidade Vendida no Mês: 65.300 unidades\n",
    "\n",
    "O programa deve notificar (usaremos o `print` por enquanto) se o produto atingiu ou superou a meta de vendas do mês. A lógica deve ser a seguinte:\n",
    "\n",
    "- Se o produto bateu a meta, o programa deve exibir a mensagem: \"Batemos a meta de vendas de iPhone, vendemos {} unidades.\"\n",
    "- Se o produto não atingiu a meta do mês, o programa não deve fazer nada."
   ]
  },
  {
   "cell_type": "code",
   "execution_count": null,
   "id": "7b23dd5a",
   "metadata": {},
   "outputs": [],
   "source": []
  },
  {
   "cell_type": "markdown",
   "id": "52574e5f",
   "metadata": {},
   "source": [
    "### Tratando a condição falsa:\n",
    "\n",
    "Quando usamos o if, nem sempre queremos apenas analisar o caso verdadeiro, em boa parte das vezes queremos fazer alguma coisa caso a condição seja verdadeira e fazer outra coisa caso a condição seja falsa.\n",
    "\n",
    "Nesse caso usaremos:"
   ]
  },
  {
   "cell_type": "raw",
   "id": "0e2764d6",
   "metadata": {},
   "source": [
    "if condição:\n",
    "    o que eu quero fazer caso a condição seja verdadeira\n",
    "else:\n",
    "    o que eu quero fazer caso a condição seja falsa"
   ]
  },
  {
   "cell_type": "markdown",
   "id": "55b6cfc7",
   "metadata": {},
   "source": [
    "## <font color=\"blue\">Exercícios - If (condição falsa)</font>"
   ]
  },
  {
   "cell_type": "markdown",
   "id": "7e514387",
   "metadata": {},
   "source": [
    "# < Prompt >\n",
    "\n",
    "Modificando um pouco o código anterior, agora nossa programa deve avisar nos 2 casos:\n",
    "- Caso o produto tenha batido a meta, devemos exibir a mensagem: \"Batemos a meta de vendas de Iphone, vendemos {} unidades\" \n",
    "- Se ele não bateu a meta do mês, devemos exibir a mensagem: \"Infelizmente não batemos a meta, vendemos {} unidades. A meta era de {} unidades\""
   ]
  },
  {
   "cell_type": "code",
   "execution_count": null,
   "id": "31cfb1e6",
   "metadata": {},
   "outputs": [],
   "source": []
  },
  {
   "cell_type": "markdown",
   "id": "bb53ff1d",
   "metadata": {},
   "source": [
    "# elif\n",
    "\n",
    "E se temos mais do que um caso de sim e não?\n",
    "\n",
    "E se tivermos 3 casos?\n",
    "\n",
    "Usamos o elif da seguinte forma:"
   ]
  },
  {
   "cell_type": "raw",
   "id": "e8017026",
   "metadata": {},
   "source": [
    "if condição:\n",
    "    o que fazer se a condição 1 for verdadeira\n",
    "elif condição_2:\n",
    "    o que fazer se a condição 1 for falsa e a condição 2 for verdadeira\n",
    "else:\n",
    "    o que fazer se a condição 1 e a condição 2 forem falsas"
   ]
  },
  {
   "cell_type": "markdown",
   "id": "a0a43a68",
   "metadata": {},
   "source": [
    "# < Prompt >\n",
    "\n",
    "Vamos criar um programa para analisar o bônus dos funcionários de uma empresa. No caso dos vendedores, o bônus é calculado com base na meta de vendas de cada pessoa, seguindo as regras abaixo:\n",
    "\n",
    "- Se o vendedor vendeu abaixo da meta, ele não recebe bônus.\n",
    "- Se o vendedor vendeu acima da meta, ele recebe um bônus de 3% sobre o valor total das vendas.\n",
    "- Se o vendedor vendeu mais do que o dobro da meta, ele recebe um bônus de 7% sobre o valor total das vendas.\n",
    "\n",
    "Agora, crie um programa para avaliar um vendedor cuja meta de vendas era de 20.000 reais, e calcule o bônus dele com base no valor de vendas alcançado. Utilize as estruturas `if`, `elif` e `else`, sem o uso de funções."
   ]
  },
  {
   "cell_type": "code",
   "execution_count": null,
   "id": "922b5963",
   "metadata": {},
   "outputs": [],
   "source": []
  },
  {
   "cell_type": "markdown",
   "id": "75e78ff6",
   "metadata": {},
   "source": [
    "## <font color=\"blue\">Exercícios - Criando um mini sistema de controle de estoque</font>"
   ]
  },
  {
   "cell_type": "markdown",
   "id": "f283654f",
   "metadata": {},
   "source": [
    "# < Prompt >\n",
    "\n",
    "Crie um sistema para uso pelo time de controle de estoque em um centro de distribuição.\n",
    "\n",
    "No final de cada dia, o time contabiliza quantas unidades de cada produto estão em estoque. Se o estoque de um produto estiver abaixo do mínimo permitido para sua categoria, o time deve ser avisado (via `print`) para realizar um novo pedido.\n",
    "\n",
    "Cada categoria de produto possui um estoque mínimo diferente, conforme as regras abaixo:\n",
    "\n",
    "- Alimentos -> Estoque mínimo: 50 unidades\n",
    "- Bebidas -> Estoque mínimo: 75 unidades\n",
    "- Limpeza -> Estoque mínimo: 30 unidades\n",
    "\n",
    "O programa deve solicitar três inputs do usuário: nome do produto, categoria e quantidade atual em estoque.\n",
    "\n",
    "Se o estoque do produto estiver abaixo do mínimo exigido para sua categoria, o programa deve exibir a mensagem: \"Solicitar {produto} à equipe de compras, temos apenas {unidades} em estoque\".\n",
    "\n",
    "**Exemplo:** \n",
    "- Se o usuário insere as informações: `bebidas, dolly, 90`, o programa não deve exibir nenhuma mensagem.\n",
    "- Se o usuário insere as informações: `bebidas, guaraná, 60`, o programa deve exibir: \"Solicitar guaraná à equipe de compras, temos apenas 60 unidades em estoque.\"\n",
    "\n",
    "**Observações:**\n",
    "- Lembre-se de usar `int()` para converter o input da quantidade de string para inteiro.\n",
    "- Se o usuário não preencher corretamente alguma das três informações, o programa deve exibir uma mensagem avisando para preencher todos os campos corretamente."
   ]
  },
  {
   "cell_type": "code",
   "execution_count": null,
   "id": "1e037a4d",
   "metadata": {},
   "outputs": [],
   "source": []
  },
  {
   "cell_type": "markdown",
   "id": "d8c45647",
   "metadata": {},
   "source": [
    "## <font color=\"blue\">1.3 Estruturas de Repetição</font>"
   ]
  },
  {
   "cell_type": "markdown",
   "id": "59a52c1f",
   "metadata": {},
   "source": [
    "### Estrutura de Repetição: for"
   ]
  },
  {
   "cell_type": "raw",
   "id": "e47c06c3",
   "metadata": {},
   "source": [
    "for i in range(n):\n",
    "    repetir código n vezes"
   ]
  },
  {
   "cell_type": "code",
   "execution_count": null,
   "id": "016b90ec",
   "metadata": {},
   "outputs": [],
   "source": [
    "for i in range(5):\n",
    "    print(i)"
   ]
  },
  {
   "cell_type": "raw",
   "id": "0fed2d10",
   "metadata": {},
   "source": [
    "O for é como um jeito de dizer \"Para cada coisa nesta lista, faça isso\".\n",
    "\n",
    "Imagine que você tem uma lista de coisas para fazer e quer garantir que cada uma delas seja feita. O for vai te ajudar a passar por cada item dessa lista, um por um, e fazer algo com ele.\n",
    "\n",
    "Exemplo:\n",
    "Pense que você tem uma lista de frutas e quer imprimir o nome de cada uma:\n",
    "\n",
    "A lista frutas tem três itens: \"maçã\", \"banana\" e \"laranja\".\n",
    "O for vai pegar cada fruta da lista, uma de cada vez.\n",
    "Primeiro, ele pega \"maçã\" e imprime.\n",
    "Depois, pega \"banana\" e imprime.\n",
    "Finalmente, pega \"laranja\" e imprime."
   ]
  },
  {
   "cell_type": "code",
   "execution_count": null,
   "id": "34e176ee",
   "metadata": {},
   "outputs": [],
   "source": [
    "frutas = [\"maçã\", \"banana\", \"laranja\"]\n",
    "\n",
    "for fruta in frutas:\n",
    "    print(fruta)"
   ]
  },
  {
   "cell_type": "markdown",
   "id": "79db0193",
   "metadata": {},
   "source": [
    "## <font color=\"blue\">Exercícios - Criando um Registro de Hóspedes</font>"
   ]
  },
  {
   "cell_type": "markdown",
   "id": "f6de43e4",
   "metadata": {},
   "source": [
    "# < Prompt >\n",
    "\n",
    "Imagine que você está desenvolvendo um sistema para registrar a chegada de hóspedes em um hotel. O hotel possui quartos que podem acomodar 1, 2, 3 ou 4 pessoas. Seu sistema deve:\n",
    "\n",
    "1. Perguntar ao hóspede quantas pessoas ficarão no quarto (perguntando do usuário usando um input).\n",
    "2. De acordo com o número de pessoas informado, o sistema deve usar um loop `for` para perguntar o CPF e o nome de cada pessoa, registrando essas informações (dois inputs para cada pessoa: um para o CPF e outro para o nome).\n",
    "3. O programa deve então gerar uma lista contendo todas as pessoas que ficarão no quarto, onde cada item da lista deve ser uma lista com o nome e o CPF de cada pessoa.\n",
    "\n",
    "**Exemplo de resultado esperado:**\n",
    "\n",
    "Se o hóspede informar que o quarto terá 2 pessoas, o sistema pode gerar uma lista como esta:\n",
    "\n",
    "[[\"João Silva\", \"123.456.789-00\"], [\"Maria Souza\", \"987.654.321-00\"]]"
   ]
  },
  {
   "cell_type": "code",
   "execution_count": null,
   "id": "1e74ef8c",
   "metadata": {},
   "outputs": [],
   "source": []
  },
  {
   "cell_type": "markdown",
   "id": "294bc3bd",
   "metadata": {},
   "source": [
    "### Estrutura de Repetição: while\n",
    "\n",
    "Usamos o while quando queremos repetir um código de forma indeterminada até uma condição se tornar verdadeira/falsa.\n",
    "\n",
    "A lógica é: enquanto a condição for verdadeira, o while executa o código. Assim que ela terminar de ser verdadeira, o código \"sai\" do while."
   ]
  },
  {
   "cell_type": "raw",
   "id": "618e5f41",
   "metadata": {},
   "source": [
    "while condicao:\n",
    "    repete esse código"
   ]
  },
  {
   "cell_type": "raw",
   "id": "53b71b37",
   "metadata": {},
   "source": [
    "Exemplo:\n",
    "Vamos imaginar que você tem 10 moedas e quer tirar uma de cada vez até que não sobre nenhuma:\n",
    "\n",
    "Nesse exemplo:\n",
    "\n",
    "Começamos com 10 moedas.\n",
    "O while verifica se o número de moedas é maior que 0.\n",
    "Se for, ele imprime quantas moedas você tem e tira uma moeda (moedas -= 1).\n",
    "Isso continua até que não sobrem mais moedas (ou seja, até que moedas seja igual a 0)."
   ]
  },
  {
   "cell_type": "code",
   "execution_count": null,
   "id": "0db3ccf6",
   "metadata": {},
   "outputs": [],
   "source": [
    "moedas = 10\n",
    "\n",
    "while moedas > 0:\n",
    "    print(f\"Você tem {moedas} moedas.\")\n",
    "    moedas -= 1  # Isso significa que você está tirando uma moeda"
   ]
  },
  {
   "cell_type": "markdown",
   "id": "4eb4f236",
   "metadata": {},
   "source": [
    "# < Prompt >\n",
    "\n",
    "Crie um programa que funcione como um registro de vendas para uma empresa, utilizando a estrutura de repetição `while`.\n",
    "\n",
    "O programa deve permitir que o usuário insira o nome de um produto, que será adicionado a uma lista de vendas. Enquanto o usuário não decidir encerrar o programa, ele poderá continuar registrando novos produtos, e cada nome de produto será adicionado à lista.\n",
    "\n",
    "O programa deve continuar executando até que o usuário insira um comando específico para encerrar o registro, permitindo assim a entrada de quantos produtos o usuário desejar.\n",
    "\n",
    "**Dicas:**\n",
    "- Utilize uma lista para armazenar os nomes dos produtos.\n",
    "- Considere pedir ao usuário para digitar \"sair\" ou \"encerrar\" quando ele quiser parar de registrar produtos."
   ]
  },
  {
   "cell_type": "code",
   "execution_count": null,
   "id": "e92be266",
   "metadata": {},
   "outputs": [],
   "source": []
  },
  {
   "cell_type": "markdown",
   "id": "edf43cb3",
   "metadata": {},
   "source": [
    "# < Prompt >\n",
    "\n",
    "Crie um programa que solicite ao usuário que insira um nome de usuário e uma senha. O programa não deve aceitar uma senha que seja igual ao nome de usuário.\n",
    "\n",
    "Se o usuário tentar usar uma senha igual ao nome, o programa deve exibir uma mensagem de erro e pedir novamente as informações até que uma combinação válida seja fornecida.\n",
    "\n",
    "**Requisitos:**\n",
    "- O programa deve utilizar um loop `while` para continuar solicitando as informações até que o nome de usuário e a senha sejam diferentes.\n",
    "- Se a senha for igual ao nome de usuário, exiba a mensagem de erro: \"Erro: A senha não pode ser igual ao nome de usuário. Tente novamente.\""
   ]
  },
  {
   "cell_type": "code",
   "execution_count": null,
   "id": "9c6813cd",
   "metadata": {},
   "outputs": [],
   "source": []
  },
  {
   "cell_type": "markdown",
   "id": "96cb4c95",
   "metadata": {},
   "source": [
    "## <font color=\"blue\">1.4 Funções</font>\n",
    "\n",
    "As functions são blocos de código que servem a um propósito, fazem uma ação específica."
   ]
  },
  {
   "cell_type": "raw",
   "id": "a0941028",
   "metadata": {},
   "source": [
    "def nome_funcao():\n",
    "    faça alguma coisa\n",
    "    faça outra coisa\n",
    "    return valor_final"
   ]
  },
  {
   "cell_type": "raw",
   "id": "5554126a",
   "metadata": {},
   "source": [
    "Exemplo:\n",
    "Vamos imaginar que você quer somar dois números. Em vez de escrever a soma várias vezes, você pode criar uma função para isso.\n",
    "\n",
    "Aqui:\n",
    "\n",
    "def é a palavra que usamos para definir uma função.\n",
    "somar é o nome da função. Você escolhe esse nome.\n",
    "(a, b) são os \"ingredientes\" (ou parâmetros) que a função precisa para funcionar.\n",
    "Dentro da função, a linha resultado = a + b faz a soma.\n",
    "return resultado significa que a função vai \"devolver\" o resultado dessa soma para você."
   ]
  },
  {
   "cell_type": "code",
   "execution_count": null,
   "id": "9e3bca7a",
   "metadata": {},
   "outputs": [],
   "source": [
    "def somar(a, b):\n",
    "    resultado = a + b\n",
    "    return resultado"
   ]
  },
  {
   "cell_type": "raw",
   "id": "ee48ceee",
   "metadata": {},
   "source": [
    "Nesse exemplo:\n",
    "\n",
    "Chamamos a função somar com os números 3 e 5.\n",
    "A função faz a soma e devolve o resultado (que é 8).\n",
    "O resultado é armazenado na variável soma, e então é impresso."
   ]
  },
  {
   "cell_type": "code",
   "execution_count": null,
   "id": "b6fd1013",
   "metadata": {},
   "outputs": [],
   "source": [
    "soma = somar(3, 5)\n",
    "print(soma)"
   ]
  },
  {
   "cell_type": "markdown",
   "id": "95bc3c4c",
   "metadata": {},
   "source": [
    "# < Prompt >\n",
    "\n",
    "Crie uma função para cadastrar um produto, garantindo que o nome do produto seja registrado em letras minúsculas e sem caracteres especiais ou acentos. A entrada do nome do produto deve ser feita através de um `input` do usuário.\n",
    "\n",
    "**Requisitos:**\n",
    "- A função deve converter todas as letras para minúsculas.\n",
    "- A função deve remover qualquer acento e caracteres especiais do nome do produto.\n",
    "- O nome do produto, já formatado, deve ser retornado pela função ou armazenado conforme a lógica do seu programa.\n",
    "\n",
    "**Exemplo de entrada e saída:**\n",
    "- Entrada: \"Café com Leite!\"\n",
    "- Saída: \"cafe com leite\""
   ]
  },
  {
   "cell_type": "code",
   "execution_count": null,
   "id": "ae3d9a8e",
   "metadata": {},
   "outputs": [],
   "source": []
  },
  {
   "cell_type": "markdown",
   "id": "eabc494e",
   "metadata": {},
   "source": [
    "## <font color=\"blue\">Exercícios - Categorizando produtos</font>"
   ]
  },
  {
   "cell_type": "markdown",
   "id": "00ae72b4",
   "metadata": {},
   "source": [
    "# < Prompt >\n",
    "\n",
    "Estamos criando um programa para categorizar os produtos de uma revendedora de bebidas.\n",
    "\n",
    "Cada produto é identificado por um código, e o tipo de produto é determinado pelas 3 primeiras letras desse código.\n",
    "\n",
    "**Exemplos de códigos:**\n",
    "- Vinho -> BEB12302\n",
    "- Cerveja -> BEB12043\n",
    "- Vodka -> BEB34501\n",
    "- Guaraná -> BSA11104\n",
    "- Coca -> BSA54301\n",
    "- Sprite -> BSA34012\n",
    "- Água -> BSA09871\n",
    "\n",
    "Observe que:\n",
    "- Bebidas alcoólicas têm códigos que começam com \"BEB\".\n",
    "- Bebidas não alcoólicas têm códigos que começam com \"BSA\".\n",
    "\n",
    "**Tarefa:**\n",
    "Crie uma função que analise uma lista de produtos e gere instruções para a equipe de estoque, indicando quais produtos devem ser enviados para a área de bebidas alcoólicas e quais devem ser enviados para o setor de bebidas não alcoólicas.\n",
    "\n",
    "**Lista de produtos para análise:**\n",
    "\n",
    "lista_produtos = [ 'beb46275', 'TFA23962', 'TFA64715', 'TFA69555', 'TFA56743', 'BSA45510', 'TFA44968', 'CAR75448', 'CAR23596', 'CAR13490', 'BEB21365', 'BEB31623', 'BSA62419', 'BEB73344', 'TFA20079', 'BEB80694', 'BSA11769', 'BEB19495', 'TFA14792', 'TFA78043', 'BSA33484', 'BEB97471', 'BEB62362', 'TFA27311', 'TFA17715', 'BEB85146', 'BEB48898', 'BEB79496', 'CAR38417', 'TFA19947', 'TFA58799', 'CAR94811', 'BSA59251', 'BEB15385', 'BEB24213', 'BEB56262', 'BSA96915', 'CAR53454', 'BEB75073' ]\n",
    "\n",
    "A função deve analisar cada código na lista, identificar se o produto é alcoólico ou não alcoólico, e imprimir uma lista de produtos a serem enviados para as respectivas áreas de estoque."
   ]
  },
  {
   "cell_type": "code",
   "execution_count": null,
   "id": "793794da",
   "metadata": {},
   "outputs": [],
   "source": []
  },
  {
   "cell_type": "markdown",
   "id": "8cbde47d",
   "metadata": {},
   "source": [
    "## <font color=\"blue\">Exercícios - Clientes inadimplentes</font>"
   ]
  },
  {
   "cell_type": "markdown",
   "id": "69047c8a",
   "metadata": {},
   "source": [
    "# < Prompt >\n",
    "\n",
    "Objetivo: Criar uma função que identifique os clientes inadimplentes de uma empresa com base em suas dívidas e o tempo que estão em aberto. A função deve retornar uma lista de clientes inadimplentes, incluindo o CPF e o valor devido, para que o setor de cobrança possa agir.\n",
    "\n",
    "Critérios de Inadimplência:\n",
    "\n",
    "Um cliente é considerado inadimplente se:\n",
    "Deve mais de 1.000 reais e\n",
    "A dívida está em aberto por mais de 20 dias.\n",
    "Tarefa: Crie uma função que receba uma lista de clientes com suas respectivas dívidas e dias de atraso, analise quais clientes atendem aos critérios de inadimplência e retorne uma lista contendo o CPF e o valor devido dos clientes inadimplentes.\n",
    "\n",
    "Formato da entrada:\n",
    "\n",
    "A função receberá uma lista chamada clientes_devedores, onde cada item é uma tupla contendo três elementos: CPF, valor_devido, e dias_em_aberto.\n",
    "\n",
    "clientes_devedores = [\n",
    "    ('462.286.561-65', 14405, 24),\n",
    "    ('251.569.170-81', 16027, 1),\n",
    "    ('297.681.579-21', 8177, 28),\n",
    "    # ... (mais clientes)\n",
    "]"
   ]
  },
  {
   "cell_type": "code",
   "execution_count": null,
   "id": "0efa4fa0",
   "metadata": {},
   "outputs": [],
   "source": [
    "clientes_devedores = [('462.286.561-65',14405,24),('251.569.170-81',16027,1),('297.681.579-21',8177,28),('790.223.154-40',9585,10),('810.442.219-10',18826,29),('419.210.299-79',11421,15),('908.507.760-43',12445,24),('911.238.364-17',1345,4),('131.115.339-28',11625,8),('204.169.467-27',5364,22),('470.806.376-11',932,29),('938.608.980-69',13809,19),('554.684.165-26',11227,2),('119.225.846-34',4475,9),('358.890.858-95',13932,20),('786.547.940-70',17048,25),('468.487.741-94',2902,8),('540.685.100-32',5806,21),('379.729.796-80',7622,24),('980.173.363-94',13167,24),('833.285.374-56',19581,24),('103.669.436-50',17126,4),('386.836.124-46',18825,11),('588.404.964-15',1545,30),('600.556.177-18',1921,7),('670.346.230-99',18079,28),('771.352.915-13',16581,23),('430.314.324-46',13942,24),('629.507.759-51',17951,11),('348.683.225-73',12424,10),('406.133.151-17',5888,30),('310.985.894-64',17316,30),('964.317.132-30',18818,30),('845.331.524-14',14284,13),('781.995.738-18',19369,29),('921.558.128-63',3206,27),('941.386.982-65',10228,26),('551.135.290-10',18822,18),('537.124.578-35',12670,6),('119.383.169-76',790,20),('938.473.410-98',8851,5),('279.775.182-54',5212,20),('210.872.954-53',13569,8),('684.995.531-65',8649,21),('653.886.282-57',504,28),('973.580.738-53',2533,9),('285.864.892-85',8200,21),('777.154.423-98',10336,8),('769.786.401-34',3233,12),('521.566.565-97',11882,14),('491.799.681-92',653,8),('344.357.819-36',8856,18),('265.362.581-99',8962,8),('331.410.527-56',18516,18),('143.188.958-61',7234,29),('751.630.472-61',13552,6),('714.707.807-80',2898,7),('585.584.932-83',239,25),('165.554.107-13',9572,23),('718.225.984-87',10534,25),('611.715.653-32',3210,11),('397.994.286-79',13651,24),('967.160.575-69',8997,25),('369.750.998-94',13952,2),('767.400.554-79',18320,11),('171.104.286-74',5821,21),('152.817.649-24',3358,30),('645.308.846-62',15176,25),('273.884.570-92',4436,13),('888.818.341-45',15730,3),('577.836.712-40',14670,16),('513.529.919-95',4002,1),('201.476.809-95',17442,21),('657.816.571-87',1582,2),('810.494.975-87',2157,9),('531.749.410-17',12355,18),('486.290.887-24',18576,26),('432.376.642-62',8027,23),('207.274.437-91',5125,29),('634.244.673-72',11387,15),('346.871.172-72',8105,23),('166.330.605-50',7865,11),('829.181.731-94',2425,8),('197.305.464-63',9681,8),('887.877.706-59',15681,10),('847.598.885-51',323,23),('817.170.984-26',5169,27),('591.397.550-29',13362,25),('872.733.198-95',5756,18),('615.629.238-82',11678,23),('194.782.846-77',11044,17),('146.392.158-88',6848,4),('240.427.458-70',3906,25),('583.662.427-52',3306,5),('841.627.523-64',4778,4),('985.337.216-77',15308,4),('912.410.722-57',11683,6),('700.720.266-23',12638,21),('605.405.529-53',3831,3),('383.256.402-25',2599,10),('248.103.486-68',9121,1),('261.974.594-90',2139,26),('297.126.704-91',18529,16),('680.569.318-52',10176,23),('296.334.647-38',225,13),('200.761.898-70',16244,20),('258.232.687-17',19462,18),('597.295.672-38',18840,11),('894.479.102-52',11375,12),('556.156.341-36',16269,23),('987.874.553-86',11253,17),('248.927.998-94',6510,1),('852.796.660-25',2662,23),('741.370.204-36',9303,16),('536.714.951-95',2877,23),('320.395.830-44',14554,5),('520.645.562-80',17547,24),('553.700.674-28',3147,14),('913.525.896-32',17651,28),('750.456.495-86',11524,9),('246.171.748-38',15184,4),('760.248.897-67',4953,25),('920.890.990-46',17172,20),('805.469.913-50',17500,21),('878.594.225-48',6255,3),('356.715.924-36',3454,13),('847.150.802-96',8602,22),('625.846.640-53',10888,19),('539.300.108-41',11225,21),('549.151.467-76',1286,21),('738.451.908-29',18905,22),('987.288.834-69',17533,25),('898.532.296-94',9719,11),('620.531.607-13',13584,10),('169.415.202-43',1871,29),('757.885.355-97',18150,28),('252.581.376-21',2497,3),('177.937.460-78',7178,8),('523.895.611-54',9878,26),('883.680.201-23',16761,3),('936.678.268-71',11017,9),('871.912.703-73',1754,9),('957.749.478-56',6914,9),('725.636.354-80',8605,13),('898.316.244-33',14363,12),('894.748.325-28',2764,3),('647.106.954-60',1482,6),('628.716.937-98',14107,8),('332.677.483-83',19146,15),('186.870.928-82',17050,12),('216.248.879-71',4384,16),('287.929.269-44',4894,19),('278.335.932-42',17220,13),('824.107.287-13',11797,7),('535.354.954-30',9195,22),('311.762.241-12',13871,2),('209.759.133-88',13580,21),('505.728.766-53',16950,13),('879.471.988-23',17427,14),('772.329.947-39',3462,8),('321.123.241-10',2592,22),('407.342.963-78',11435,21),('786.935.637-47',14240,9),('461.791.351-55',142,2),('770.920.161-42',1247,24),('639.870.185-59',6430,10),('815.943.237-83',19550,22),('141.774.255-61',17866,13),('379.995.400-37',9503,29),('261.103.178-64',19167,13),('495.461.913-57',12265,29),('498.848.750-79',14549,16),('578.770.731-84',1462,5),('408.987.269-72',5647,28),('191.970.336-40',6313,15),('761.137.848-34',10654,23),('810.512.154-21',14928,1),('256.371.788-38',7085,2),('216.401.188-57',1531,23),('956.318.620-43',6327,22),('986.516.478-33',3866,25),('105.665.555-60',7118,4),('259.228.430-72',1601,8),('133.627.971-58',10142,14),('327.988.845-70',14985,23),('363.167.322-63',17236,7),('189.986.406-38',16888,18),('661.194.373-45',7824,1),('805.728.877-53',514,10),('887.826.412-21',15977,24),('122.975.174-32',9409,25),('456.550.370-55',19922,18),('388.243.133-66',19785,17),('208.788.890-61',11893,22),('881.332.662-49',6344,16),('912.349.944-52',6858,15),('534.904.583-32',9559,11),('825.175.334-25',19805,15),('339.191.298-46',13325,8),('569.993.915-78',4339,15)]"
   ]
  },
  {
   "cell_type": "code",
   "execution_count": null,
   "id": "5887ba03",
   "metadata": {},
   "outputs": [],
   "source": []
  },
  {
   "cell_type": "markdown",
   "id": "4b7b3739",
   "metadata": {},
   "source": [
    "# Parte 2: Introdução à Análise de Dados com Python"
   ]
  },
  {
   "cell_type": "markdown",
   "id": "0233d69e",
   "metadata": {},
   "source": [
    "<img src=\"https://curator-production.s3.us.cloud-object-storage.appdomain.cloud/uploads/md5-c51551ca9adbef53a15766cb93c7db9b-course_card.png\" alt=\"Descrição da Imagem\" width=\"400\"/>"
   ]
  },
  {
   "cell_type": "markdown",
   "id": "6367b101",
   "metadata": {},
   "source": [
    "## Importando módulos e arquivos\n",
    "\n",
    "### O que temos?\n",
    "\n",
    "Temos os dados de 2019 de uma empresa de prestação de serviços. \n",
    "\n",
    "- CadastroFuncionarios\n",
    "- CadastroClientes\n",
    "\n",
    "Obs1: Para ler arquivos csv, temos o read_csv<br>\n",
    "Obs2: Para ler arquivos xlsx (arquivos em excel normais, que não são padrão csv), temos o read_excel"
   ]
  },
  {
   "cell_type": "code",
   "execution_count": null,
   "id": "7421dde1",
   "metadata": {},
   "outputs": [],
   "source": [
    "import pandas as pd\n",
    "\n",
    "funcionarios_df = pd.read_csv('https://raw.githubusercontent.com/ksddavila/treinamento_intro_python_chatgpt/main/CadastroFuncionarios.csv', sep=';', decimal=',')\n",
    "clientes_df = pd.read_csv('https://raw.githubusercontent.com/ksddavila/treinamento_intro_python_chatgpt/main/CadastroClientes.csv', sep=';', decimal=',')\n",
    "\n",
    "display(funcionarios_df)\n",
    "display(clientes_df)"
   ]
  },
  {
   "cell_type": "markdown",
   "id": "9441c373",
   "metadata": {},
   "source": [
    "## 2.1 Folha de pagamento"
   ]
  },
  {
   "cell_type": "markdown",
   "id": "35b7c772",
   "metadata": {},
   "source": [
    "# < Prompt >\n",
    "\n",
    "Em Python, temos os dados de 2019 de uma empresa de prestação de serviços, com os seguintes dataframes:\n",
    "\n",
    "- CadastroFuncionarios --> Dataframe: funcionarios_df\n",
    "- CadastroClientes --> Dataframe: clientes_df\n",
    "\n",
    "Quero saber: Valor Total da Folha Salarial -> Qual foi o gasto total com salários de funcionários pela empresa? \n",
    "<br>\n",
    "* Use o dataframe 'funcionarios_df';\n",
    "* Some as colunas que compõem o salário para gerar a coluna 'Salario Total': 'Salario Base' + 'Impostos' + 'Beneficios' + 'VT' + 'VR'\n",
    "* Faça um gráfico de barras que exiba o valor de 'Salario Total' para cada 'Area'. \n",
    "* Some o valor total da coluna 'Salario Total' e exiba um print com o Valor Total da Folha Salarial. "
   ]
  },
  {
   "cell_type": "code",
   "execution_count": null,
   "id": "ff439a50",
   "metadata": {},
   "outputs": [],
   "source": []
  },
  {
   "cell_type": "markdown",
   "id": "4b43ceed",
   "metadata": {},
   "source": [
    "## 2.2 Funcionários por área"
   ]
  },
  {
   "cell_type": "markdown",
   "id": "3318b84e",
   "metadata": {},
   "source": [
    "# < Prompt >\n",
    "\n",
    "Preciso saber a contagem de funcionários por área nessa empresa. Para isso, use funcionarios_df:\n",
    "- Conte a quantidade de 'ID Funcionário' distintos para cada 'Area';\n",
    "- Plote um gráfico de barras para visualizar o resultado. \n",
    "- Exiba esse resultado também em um dataframe."
   ]
  },
  {
   "cell_type": "code",
   "execution_count": null,
   "id": "05ee48a6",
   "metadata": {},
   "outputs": [],
   "source": []
  },
  {
   "cell_type": "markdown",
   "id": "7f5c3de3",
   "metadata": {},
   "source": [
    "## 2.3 Ticket médio mensal"
   ]
  },
  {
   "cell_type": "markdown",
   "id": "0250d843",
   "metadata": {},
   "source": [
    "# < Prompt >\n",
    "\n",
    "Calcule o ticket médio mensal a partir do Dataframe: clientes_df, utilizando a coluna 'Valor Contrato Mensal'. Exiba a saída em reais e duas casas decimais.  "
   ]
  },
  {
   "cell_type": "code",
   "execution_count": null,
   "id": "89c52459",
   "metadata": {},
   "outputs": [],
   "source": []
  }
 ],
 "metadata": {
  "kernelspec": {
   "display_name": "Python 3 (ipykernel)",
   "language": "python",
   "name": "python3"
  },
  "language_info": {
   "codemirror_mode": {
    "name": "ipython",
    "version": 3
   },
   "file_extension": ".py",
   "mimetype": "text/x-python",
   "name": "python",
   "nbconvert_exporter": "python",
   "pygments_lexer": "ipython3",
   "version": "3.11.4"
  }
 },
 "nbformat": 4,
 "nbformat_minor": 5
}

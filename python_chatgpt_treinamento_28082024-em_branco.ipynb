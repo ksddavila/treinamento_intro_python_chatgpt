{
 "cells": [
  {
   "cell_type": "markdown",
   "id": "e27d41db",
   "metadata": {},
   "source": [
    "<h1>Lógica de Programação e Análise de Dados em Python: \n",
    "    \n",
    "Um Guia Inicial com ChatGPT</h1>\n",
    "\n",
    "<b>Data:</b> Quarta-feira, 21 de Agosto de 2024\n",
    "\n",
    "<b>Modalidade:</b> Remota\n",
    "\n",
    "<b>Horário:</b> 14 às 16 h\n",
    "\n",
    "<b>Carga Horária:</b> 2 h\n",
    "\n",
    "\n",
    "<h3>Objetivos:</h3>\n",
    "<ul>\n",
    "<li>Introduzir os participantes à lógica de programação em Python.</li> \n",
    "<li>Trabalhar conceitos básicos de análise de dados.</li> \n",
    "<li>Demonstrar como usar o ChatGPT para resolver problemas e obter ajuda durante o desenvolvimento.</li> \n",
    "</ul>\n",
    "\n",
    "<h3>Conteúdo:</h3>\n",
    "\n",
    "<h4>Parte 1: Introdução à Lógica de Programação em Python (50 minutos)</h4>\n",
    "<ol>\n",
    "<li>Abertura e Introdução</li> \n",
    "<li>Conceitos Básicos de Programação</li> \n",
    "<li>Estruturas de Repetição</li> \n",
    "<li>Funções em Python</li> \n",
    "<li>Sessão de Perguntas Rápidas</li> \n",
    "</ol>\n",
    "\n",
    "<h4>Parte 2: Introdução à Análise de Dados com Python (50 minutos)</h4>\n",
    "<ol>\n",
    "<li>Abertura da Sessão de Análise de Dados</li>  \n",
    "<li>Manipulação de Dados com Pandas</li>  \n",
    "<li>Introdução à Visualização de Dados</li>  \n",
    "<li>Utilizando o ChatGPT para Resolução de Problemas</li>  \n",
    "<li>Sessão de Perguntas Finais e Encerramento</li> \n",
    "</ol>"
   ]
  },
  {
   "cell_type": "markdown",
   "id": "aef8b36a",
   "metadata": {},
   "source": [
    "# Parte 1: Introdução à Lógica de Programação em Python"
   ]
  },
  {
   "cell_type": "markdown",
   "id": "b58122d4",
   "metadata": {},
   "source": [
    "<img src=\"https://i.ytimg.com/vi/S3okwVkxDgA/maxresdefault.jpg\" alt=\"Descrição da Imagem\" width=\"400\"/>"
   ]
  },
  {
   "cell_type": "markdown",
   "id": "b6a3c531",
   "metadata": {},
   "source": [
    "## <font color=\"blue\">1.1 Abertura e Introdução</font>"
   ]
  },
  {
   "cell_type": "markdown",
   "id": "f42fd5c1",
   "metadata": {},
   "source": [
    "### Operações Matemáticas no Python\n",
    "\n",
    "1. Adição -> +\n",
    "2. Subtração -> -\n",
    "3. Divisão -> /\n",
    "4. Multiplicação -> *\n",
    "5. Mod (resto da divisão) -> %"
   ]
  },
  {
   "cell_type": "code",
   "execution_count": 1,
   "id": "71f4c3d7",
   "metadata": {},
   "outputs": [
    {
     "name": "stdout",
     "output_type": "stream",
     "text": [
      "8\n",
      "2\n",
      "1.6666666666666667\n",
      "15\n",
      "2\n"
     ]
    }
   ],
   "source": [
    "#adição\n",
    "print(3 + 5)\n",
    "\n",
    "#subtração\n",
    "print(5 - 3)\n",
    "\n",
    "#divisão\n",
    "print(5 / 3)\n",
    "\n",
    "#multiplicação\n",
    "print(5 * 3)\n",
    "\n",
    "#mod (resto da divisão de 5 por 3)\n",
    "print(5 % 3)"
   ]
  },
  {
   "cell_type": "markdown",
   "id": "0b800d3a",
   "metadata": {},
   "source": [
    "### Operações Básicas com String\n",
    "\n",
    "1. Concatenar -> +\n",
    "2. Verificar se um texto está contido dentro do outro -> in"
   ]
  },
  {
   "cell_type": "code",
   "execution_count": 2,
   "id": "5ad4207d",
   "metadata": {},
   "outputs": [
    {
     "name": "stdout",
     "output_type": "stream",
     "text": [
      "O faturamento da loja foi 1000\n",
      "True\n"
     ]
    }
   ],
   "source": [
    "#Concatenar\n",
    "print('O faturamento da loja foi ' + '1000')\n",
    "\n",
    "#Verificar se um texto está dentro do outro\n",
    "print('@' in 'emailcorporativo@gmail.com')"
   ]
  },
  {
   "cell_type": "markdown",
   "id": "eb1aa0be",
   "metadata": {},
   "source": [
    "### Variável\n",
    "\n",
    "variavel = valor"
   ]
  },
  {
   "cell_type": "code",
   "execution_count": 3,
   "id": "e234f3a9",
   "metadata": {},
   "outputs": [
    {
     "name": "stdout",
     "output_type": "stream",
     "text": [
      "1500\n",
      "1000\n"
     ]
    }
   ],
   "source": [
    "faturamento = 1500\n",
    "custo = 500\n",
    "\n",
    "lucro = faturamento - custo \n",
    "\n",
    "print(faturamento)\n",
    "print(lucro)"
   ]
  },
  {
   "cell_type": "markdown",
   "id": "c8a1aed1",
   "metadata": {},
   "source": [
    "### Pegar informações do Usuário\n",
    "\n",
    "variavel = input('Texto para o Usuário')"
   ]
  },
  {
   "cell_type": "code",
   "execution_count": 5,
   "id": "7f523e6e",
   "metadata": {},
   "outputs": [
    {
     "name": "stdout",
     "output_type": "stream",
     "text": [
      "Digite seu cpf (apenas números, sem pontos e traços)54168456\n",
      "O cpf do cliente é 54168456\n"
     ]
    }
   ],
   "source": [
    "#para cadastrar um cliente\n",
    "cpf = input('Digite seu cpf (apenas números, sem pontos e traços)')\n",
    "print('O cpf do cliente é ' + cpf)"
   ]
  },
  {
   "cell_type": "markdown",
   "id": "62da7d59",
   "metadata": {},
   "source": [
    "### Comparadores"
   ]
  },
  {
   "cell_type": "raw",
   "id": "5f81bdcf",
   "metadata": {},
   "source": [
    "==    igual\n",
    "!=    diferente\n",
    ">     maior que (>= maior ou igual)\n",
    "<     menor que (<= menor ou igual)\n",
    "in    texto existe dentro de outro texto \n",
    "not   verifica o contrário da comparação\n",
    "\n",
    "Obs: Se em alguma condição você não quiser fazer nada, você pode simplesmente escrever:\n",
    "pass"
   ]
  },
  {
   "cell_type": "code",
   "execution_count": null,
   "id": "8fd2b9c7",
   "metadata": {},
   "outputs": [],
   "source": [
    "faturamento_loja_1 = 2500\n",
    "faturamento_loja_2 = 2200\n",
    "\n",
    "print('Programa 1')\n",
    "if faturamento_loja_1 == faturamento_loja_2:\n",
    "    print('Os faturamentos são iguais')\n",
    "else:\n",
    "    print('Os faturamentos são diferentes')"
   ]
  },
  {
   "cell_type": "code",
   "execution_count": null,
   "id": "a5537280",
   "metadata": {},
   "outputs": [],
   "source": [
    "email = \"chatgpt@gmail.com\"\n",
    "\n",
    "print('Programa 2')\n",
    "if email != 'chatgpt@gmail.com':\n",
    "    print('Esse não é o email do chatgpt')\n",
    "else:\n",
    "    print('Email correto')"
   ]
  },
  {
   "cell_type": "code",
   "execution_count": null,
   "id": "2f32e950",
   "metadata": {},
   "outputs": [],
   "source": [
    "print('Programa 3')\n",
    "email_usuario = input('Insira seu e-mail:')\n",
    "if not '@bemol.com' in email_usuario:\n",
    "    print('Email Inválido')\n",
    "else:\n",
    "    pass"
   ]
  },
  {
   "cell_type": "markdown",
   "id": "4c833abe",
   "metadata": {},
   "source": [
    "## <font color=\"blue\">Exercícios - Operações, Variáveis e Input</font>"
   ]
  },
  {
   "cell_type": "markdown",
   "id": "3c1a593e",
   "metadata": {},
   "source": [
    "# < Prompt >\n",
    "\n",
    "<br>\n",
    "\n",
    "Vamos trabalhar em Python. Primeiro, use o bloco abaixo para criar todas as variáveis necessárias:\n",
    "\n",
    "Quantidade de Vendas de Coca = 150\n",
    "\n",
    "Quantidade de Vendas de Pepsi = 130\n",
    "\n",
    "Preço Unitário da Coca = 1,50 \n",
    "\n",
    "Preço Unitário da Pepsi = 1,50\n",
    "\n",
    "Custo da Loja: 2.500,00"
   ]
  },
  {
   "cell_type": "code",
   "execution_count": null,
   "id": "532b741d",
   "metadata": {},
   "outputs": [],
   "source": []
  },
  {
   "cell_type": "markdown",
   "id": "9f8add7f",
   "metadata": {},
   "source": [
    "# < Prompt >\n",
    "\n",
    "Responda: Qual foi o faturamento de Pepsi da Loja?"
   ]
  },
  {
   "cell_type": "code",
   "execution_count": null,
   "id": "a2ebd2e6",
   "metadata": {},
   "outputs": [],
   "source": []
  },
  {
   "cell_type": "markdown",
   "id": "dda05857",
   "metadata": {},
   "source": [
    "# < Prompt >\n",
    "\n",
    "Responda: Qual foi o faturamento de Coca da Loja?"
   ]
  },
  {
   "cell_type": "code",
   "execution_count": null,
   "id": "92c4f75a",
   "metadata": {},
   "outputs": [],
   "source": []
  },
  {
   "cell_type": "markdown",
   "id": "fc62bfbc",
   "metadata": {},
   "source": [
    "# < Prompt >\n",
    "\n",
    "Responda: Qual foi o Lucro da loja?"
   ]
  },
  {
   "cell_type": "code",
   "execution_count": null,
   "id": "b4bc87d2",
   "metadata": {},
   "outputs": [],
   "source": []
  },
  {
   "cell_type": "markdown",
   "id": "460fcc59",
   "metadata": {},
   "source": [
    "# < Prompt >\n",
    "\n",
    "Responda: Qual foi a Margem da Loja? (Lembre-se, margem = Lucro / Faturamento). Expresse em percentual, formatando a saída do print."
   ]
  },
  {
   "cell_type": "code",
   "execution_count": null,
   "id": "180a04c6",
   "metadata": {},
   "outputs": [],
   "source": []
  },
  {
   "cell_type": "markdown",
   "id": "199e818d",
   "metadata": {},
   "source": [
    "## <font color=\"blue\">Exercícios - Inputs e Strings</font>"
   ]
  },
  {
   "cell_type": "markdown",
   "id": "970963b2",
   "metadata": {},
   "source": [
    "# < Prompt >\n",
    "\n",
    "A maioria das empresas trabalham com um Código para cada produto que possuem. A Companhia Drink, por exemplo, tem mais de 1.000 produtos e possui um código para cada produto.\n",
    "\n",
    "Ex: \n",
    "Coca -> Código: BEB1300543<br>\n",
    "Pepsi -> Código: BEB1300545<br>\n",
    "Vinho Primitivo Lucarelli -> Código: BAC1546001<br>\n",
    "Vodka Smirnoff -> Código: BAC17675002<br>\n",
    "\n",
    "Repare que todas as bebidas não alcóolicas tem o início do Código \"BEB\" e todas as bebidas alcóolicas tem o início do código \"BAC\".\n",
    "\n",
    "Crie um programa de consulta de bebida que, dado um código qualquer, identifique se a bebida é alcóolica. O programa deve responder True para bebidas alcóolicas e False para bebidas não alcóolicas. Para inserir um código, use um input do usuário e use apenas estruturas condicionais. \n",
    "\n",
    "Dica: Lembre-se do comando in para strings e sempre insira os códigos com letra maiúscula para facilitar."
   ]
  },
  {
   "cell_type": "code",
   "execution_count": null,
   "id": "013c41a7",
   "metadata": {},
   "outputs": [],
   "source": []
  },
  {
   "cell_type": "markdown",
   "id": "cb6e269a",
   "metadata": {},
   "source": [
    "## <font color=\"blue\">1.2 Conceitos Básicos de Programação</font>"
   ]
  },
  {
   "cell_type": "markdown",
   "id": "c67232f1",
   "metadata": {},
   "source": [
    "# Condições no Python -> If\n",
    "\n",
    "## Estrutura:\n",
    "\n",
    "### Uso mais simples:"
   ]
  },
  {
   "cell_type": "raw",
   "id": "f0ff627a",
   "metadata": {},
   "source": [
    "if condição:\n",
    "    o que fazer caso a condição seja verdadeira"
   ]
  },
  {
   "cell_type": "markdown",
   "id": "7495b726",
   "metadata": {},
   "source": [
    "## <font color=\"blue\">Exercícios - If (condição verdadeira)</font>"
   ]
  },
  {
   "cell_type": "markdown",
   "id": "2b3e5681",
   "metadata": {},
   "source": [
    "# < Prompt >\n",
    "\n",
    "Digamos que você trabalha na em uma loja e está analisando o resultado de vendas dos produtos.\n",
    "\n",
    "Você precisa criar um programa que vai analisar o resultado de vendas dos produtos em um mês. Para simplificar vamos pensar em um único produto: um Iphone.\n",
    "\n",
    "Meta de Vendas do Iphone = 50.000 unidades<br>\n",
    "Quantidade vendida no Mês = 65.300 unidades\n",
    "\n",
    "O seu programa deve avisar (usaremos o print por enquanto) caso o produto tenha batido a meta do mês. Então devemos fazer:<br>\n",
    "- Caso o produto tenha batido a meta, devemos exibir a mensagem: \"Batemos a meta de vendas de Iphone, vendemos {} unidades\" \n",
    "- Se ele não bateu a meta do mês, o seu programa não deve fazer nada"
   ]
  },
  {
   "cell_type": "code",
   "execution_count": null,
   "id": "7b23dd5a",
   "metadata": {},
   "outputs": [],
   "source": []
  },
  {
   "cell_type": "markdown",
   "id": "52574e5f",
   "metadata": {},
   "source": [
    "### Tratando a condição falsa:\n",
    "\n",
    "Quando usamos o if, nem sempre queremos apenas analisar o caso verdadeiro, em boa parte das vezes queremos fazer alguma coisa caso a condição seja verdadeira e fazer outra coisa caso a condição seja falsa.\n",
    "\n",
    "Nesse caso usaremos:"
   ]
  },
  {
   "cell_type": "raw",
   "id": "0e2764d6",
   "metadata": {},
   "source": [
    "if condição:\n",
    "    o que eu quero fazer caso a condição seja verdadeira\n",
    "else:\n",
    "    o que eu quero fazer caso a condição seja falsa"
   ]
  },
  {
   "cell_type": "markdown",
   "id": "55b6cfc7",
   "metadata": {},
   "source": [
    "## <font color=\"blue\">Exercícios - If (condição falsa)</font>"
   ]
  },
  {
   "cell_type": "markdown",
   "id": "7e514387",
   "metadata": {},
   "source": [
    "# < Prompt >\n",
    "\n",
    "Modificando um pouco o código anterior, agora nossa programa deve avisar nos 2 casos:\n",
    "- Caso o produto tenha batido a meta, devemos exibir a mensagem: \"Batemos a meta de vendas de Iphone, vendemos {} unidades\" \n",
    "- Se ele não bateu a meta do mês, devemos exibir a mensagem: \"Infelizmente não batemos a meta, vendemos {} unidades. A meta era de {} unidades\""
   ]
  },
  {
   "cell_type": "code",
   "execution_count": null,
   "id": "31cfb1e6",
   "metadata": {},
   "outputs": [],
   "source": []
  },
  {
   "cell_type": "markdown",
   "id": "bb53ff1d",
   "metadata": {},
   "source": [
    "# elif\n",
    "\n",
    "E se temos mais do que um caso de sim e não?\n",
    "\n",
    "E se tivermos 3 casos?\n",
    "\n",
    "Usamos o elif da seguinte forma:"
   ]
  },
  {
   "cell_type": "raw",
   "id": "e8017026",
   "metadata": {},
   "source": [
    "if condição:\n",
    "    o que fazer se a condição 1 for verdadeira\n",
    "elif condição_2:\n",
    "    o que fazer se a condição 1 for falsa e a condição 2 for verdadeira\n",
    "else:\n",
    "    o que fazer se a condição 1 e a condição 2 forem falsas"
   ]
  },
  {
   "cell_type": "markdown",
   "id": "7607d233",
   "metadata": {},
   "source": [
    "# < Prompt >\n",
    "\n",
    "Vamos criar um programa para analisar o bônus dos funcionários de uma empresa. Para os cargos de vendedores, a regra do bônus é de acordo com a meta de vendas da pessoa:\n",
    "\n",
    "Se ela vendeu abaixo da meta dela, ela não ganha bônus.\n",
    "\n",
    "Se ela vendeu acima da meta dela, ela ganha como bônus 3% do valor que ela vendeu.\n",
    "\n",
    "Se ela vendeu mais do que o dobro da meta dela, ela ganha como bônus 7% do valor que ela vendeu.\n",
    "\n",
    "Vamos criar um programa para avaliar uma pessoa que tinha como meta de vendas 20.000 reais e calcular o bônus dela de acordo com o valor de vendas que ela tiver. Use if, elif e else, sem funções. "
   ]
  },
  {
   "cell_type": "code",
   "execution_count": null,
   "id": "922b5963",
   "metadata": {},
   "outputs": [],
   "source": []
  },
  {
   "cell_type": "markdown",
   "id": "75e78ff6",
   "metadata": {},
   "source": [
    "## <font color=\"blue\">Exercícios - Criando um mini sistema de controle de estoque</font>"
   ]
  },
  {
   "cell_type": "markdown",
   "id": "16592d21",
   "metadata": {},
   "source": [
    "# < Prompt >\n",
    "\n",
    "- Crie um sistema para ser usado pelo time de controle de estoque de um centro de distribuição.\n",
    "- Imagine que ao fim de todo dia, o time conta quantas unidades de produto existem no estoque. Se tivermos um estoque abaixo do estoque permitido para aquela categoria do produto, o time deve ser avisado (print) para fazer um novo pedido.\n",
    "- Cada categoria de produto tem um estoque mínimo diferente, segundo a regra abaixo:\n",
    "\n",
    "- alimentos -> Estoque mínimo: 50\n",
    "- bebidas -> Estoque mínimo: 75\n",
    "- limpeza -> Estoque mínimo: 30\n",
    "\n",
    "Para isso vamos criar um programa que pede 3 inputs do usuário: nome do produto, categoria e quantidade atual em estoque.\n",
    "\n",
    "Se o produto tiver abaixo do estoque mínimo da categoria dele, o programa deve printar a mensagem \"Solicitar {produto} à equipe de compras, temos apenas {unidades} em estoque\"\n",
    "\n",
    "Exemplo: Se o usuário preenche os inputs com: bebidas, dolly, 90, o programa não deve exibir nenhuma mensagem.<br>\n",
    "Agora, se o usuário preenche os inputs com: bebidas, guaraná, 60, o programa deve exibir a mensagem \"Solicitar guaraná à equipe de compras, temos apenas 60 unidades em estoque.\n",
    "\n",
    "Obs: lembre de usar o int() para transformar o número inserido pelo usuário no input de string para int.<br>\n",
    "Obs2: Caso o usuário não preencha alguma das 3 informações, o programa deve exibir uma mensagem para avisá-lo de preencher corretamente."
   ]
  },
  {
   "cell_type": "code",
   "execution_count": null,
   "id": "1e037a4d",
   "metadata": {},
   "outputs": [],
   "source": []
  },
  {
   "cell_type": "markdown",
   "id": "d8c45647",
   "metadata": {},
   "source": [
    "## <font color=\"blue\">1.3 Estruturas de Repetição</font>"
   ]
  },
  {
   "cell_type": "markdown",
   "id": "59a52c1f",
   "metadata": {},
   "source": [
    "### Estrutura de Repetição: for"
   ]
  },
  {
   "cell_type": "raw",
   "id": "e47c06c3",
   "metadata": {},
   "source": [
    "for i in range(n):\n",
    "    repetir código n vezes"
   ]
  },
  {
   "cell_type": "code",
   "execution_count": null,
   "id": "016b90ec",
   "metadata": {},
   "outputs": [],
   "source": [
    "for i in range(5):\n",
    "    print(i)"
   ]
  },
  {
   "cell_type": "markdown",
   "id": "01ed949c",
   "metadata": {},
   "source": [
    "Imagine que você está construindo uma automação para enviar todo dia por e-mail um resumo da produção de uma fábrica. Construa um código que exiba a quantidade produzida de cada os produto nesse \"e-mail\"."
   ]
  },
  {
   "cell_type": "code",
   "execution_count": null,
   "id": "34e176ee",
   "metadata": {},
   "outputs": [],
   "source": [
    "produtos = ['coca', 'pepsi', 'guarana', 'sprite', 'fanta']\n",
    "producao = [15000, 12000, 13000, 5000, 250]\n",
    "\n",
    "tamanho = len(produtos)\n",
    "for i in range(tamanho):\n",
    "    print('{} unidades produzidas de {}'.format(producao[i], produtos[i]))"
   ]
  },
  {
   "cell_type": "markdown",
   "id": "79db0193",
   "metadata": {},
   "source": [
    "## <font color=\"blue\">Exercícios - Criando um Registro de Hóspedes</font>"
   ]
  },
  {
   "cell_type": "markdown",
   "id": "5094635a",
   "metadata": {},
   "source": [
    "# < Prompt >\n",
    "\n",
    "Digamos que você está criando o sistema para registrar a chegada de hóspedes em um hotel. No hotel, os hóspedes podem ter quartos com 1, 2, 3 e 4 pessoas. Seu sistema deve conseguir:\n",
    "\n",
    "1. Identificar quantas pessoas o hóspede que acabou de chegar vai ter no quarto (perguntando por meio de input)\n",
    "2. De acordo com a quantidade de pessoas do hóspede, ele deve fazer um for para perguntar o cpf e o nome de cada pessoa, a fim de registrá-la no quarto (2 inputs para cada pessoa, 1 para o cpf e outro para o nome)\n",
    "3. O seu programa então deve gerar uma lista com todas as pessoas que ficarão no quarto em que cada item dessa lista é o nome da pessoa e o cpf da pessoa."
   ]
  },
  {
   "cell_type": "raw",
   "id": "98797965",
   "metadata": {},
   "source": [
    "quarto = [\n",
    "    ['João', 'cpf:00000000000'],\n",
    "    ['Julia', 'cpf:11111111111'],\n",
    "    ['Marcus', 'cpf:22222222222'],\n",
    "    ['Maria', 'cpf:33333333333'],\n",
    "]"
   ]
  },
  {
   "cell_type": "code",
   "execution_count": null,
   "id": "1e74ef8c",
   "metadata": {},
   "outputs": [],
   "source": []
  },
  {
   "cell_type": "markdown",
   "id": "294bc3bd",
   "metadata": {},
   "source": [
    "### Estrutura de Repetição: while\n",
    "\n",
    "Usamos o while quando queremos repetir um código de forma indeterminada até uma condição se tornar verdadeira/falsa.\n",
    "\n",
    "A lógica é: enquanto a condição for verdadeira, o while executa o código. Assim que ela terminar de ser verdadeira, o código \"sai\" do while."
   ]
  },
  {
   "cell_type": "raw",
   "id": "618e5f41",
   "metadata": {},
   "source": [
    "while condicao:\n",
    "    repete esse código"
   ]
  },
  {
   "cell_type": "markdown",
   "id": "4eb4f236",
   "metadata": {},
   "source": [
    "# < Prompt >\n",
    "\n",
    "Crie um programa que funcione como o registro de vendas de uma empresa, usando a estrutura de repetição while. \n",
    "\n",
    "Nele, a pessoa deve inserir o nome do produto e o produto deve ser adicionado na lista de venda. Enquanto o usuário não encerrar o programa, significa que ele está registrando novos produtos, então o programa deve permitir e entrada de quantos produtos o usuário quiser."
   ]
  },
  {
   "cell_type": "code",
   "execution_count": null,
   "id": "e92be266",
   "metadata": {},
   "outputs": [],
   "source": []
  },
  {
   "cell_type": "markdown",
   "id": "edf43cb3",
   "metadata": {},
   "source": [
    "# < Prompt >\n",
    "\n",
    "Faça um programa que leia um nome de usuário e a sua senha e não aceite a senha igual ao nome do usuário, mostrando uma mensagem de erro e voltando a pedir as informações."
   ]
  },
  {
   "cell_type": "code",
   "execution_count": null,
   "id": "9c6813cd",
   "metadata": {},
   "outputs": [],
   "source": []
  },
  {
   "cell_type": "markdown",
   "id": "96cb4c95",
   "metadata": {},
   "source": [
    "## <font color=\"blue\">1.4 Funções</font>\n",
    "\n",
    "As functions são blocos de código que servem 1 único propósito, fazem uma ação específica."
   ]
  },
  {
   "cell_type": "raw",
   "id": "a0941028",
   "metadata": {},
   "source": [
    "def nome_funcao():\n",
    "    faça alguma coisa\n",
    "    faça outra coisa\n",
    "    return valor_final"
   ]
  },
  {
   "cell_type": "markdown",
   "id": "95bc3c4c",
   "metadata": {},
   "source": [
    "# < Prompt >\n",
    "\n",
    "Vamos criar uma função de cadastro de um Produto. Essa função deve garantir que o produto cadastrado está em letra minúscula e sem caracteres especiais e/ou acentos. A entrada deve ser através de input do usuário. "
   ]
  },
  {
   "cell_type": "code",
   "execution_count": null,
   "id": "ae3d9a8e",
   "metadata": {},
   "outputs": [],
   "source": []
  },
  {
   "cell_type": "markdown",
   "id": "eabc494e",
   "metadata": {},
   "source": [
    "## <font color=\"blue\">Exercícios - Categorizando produtos</font>"
   ]
  },
  {
   "cell_type": "markdown",
   "id": "168ab80b",
   "metadata": {},
   "source": [
    "# < Prompt >\n",
    "\n",
    "Digamos que estamos criando um programa para categorizar os produtos de uma revendedora de bebidas.\n",
    "\n",
    "Cada produto tem um código. O tipo de produto é dado pelas 3 primeiras letras do código.\n",
    "\n",
    "Ex:<br>\n",
    "Vinho -> BEB12302<br>\n",
    "Cerveja -> BEB12043<br>\n",
    "Vodka -> BEB34501<br>\n",
    "\n",
    "Guaraná -> BSA11104<br>\n",
    "Coca -> BSA54301<br>\n",
    "Sprite -> BSA34012<br>\n",
    "Água -> BSA09871<br>\n",
    "\n",
    "Repare que bebidas não alcóolicas começam com BSA e bebidas alcoolicas começam com BEB.\n",
    "\n",
    "Crie e execute uma função que analise uma lista de produtos e envie instruções para a equipe de estoque dizendo quais produtos devem ser enviados para a área de bebidas alcóolicas e quais devem ser enviados para o setor de bebidas NÃO alcoólicas.\n",
    "\n",
    "lista_produtos = ['beb46275','TFA23962','TFA64715','TFA69555','TFA56743','BSA45510','TFA44968','CAR75448','CAR23596','CAR13490','BEB21365','BEB31623','BSA62419','BEB73344','TFA20079','BEB80694','BSA11769','BEB19495','TFA14792','TFA78043','BSA33484','BEB97471','BEB62362','TFA27311','TFA17715','BEB85146','BEB48898','BEB79496','CAR38417','TFA19947','TFA58799','CAR94811','BSA59251','BEB15385','BEB24213','BEB56262','BSA96915','CAR53454','BEB75073']"
   ]
  },
  {
   "cell_type": "code",
   "execution_count": null,
   "id": "793794da",
   "metadata": {},
   "outputs": [],
   "source": []
  },
  {
   "cell_type": "markdown",
   "id": "8cbde47d",
   "metadata": {},
   "source": [
    "## <font color=\"blue\">Exercícios - Clientes inadimplentes</font>"
   ]
  },
  {
   "cell_type": "markdown",
   "id": "69047c8a",
   "metadata": {},
   "source": [
    "# < Prompt >\n",
    "\n",
    "Crie uma função para descobrir os clientes inadimplentes de uma empresa.\n",
    "\n",
    "- O objetivo é identificar quem são os clientes inadimplentes e enviar essa lista de clientes para o setor de cobrança poder fazer a cobrança dos clientes.\n",
    "- Sua função deve então receber uma lista de clientes, analisar quais clientes estão inadimplentes, e retornar uma lista com os clientes inadimplentes e o valor devido. \n",
    "- A inadimplência nessa empresa é calculada da seguinte forma:\n",
    "    1. Se o cliente tiver devendo mais de 1.000 reais por mais de 20 dias, ele é considerado inadimplente.\n",
    "    2. Isso significa que caso ou cliente esteja devendo 2.000 reais a 10 dias, ele não é inadimplente, pois não se passaram 20 dias ainda. Da mesma forma, se ele estiver devendo 500 reais por 40 dias, ele também não é inadimplente, dado que ele deve menos de 1.000 reais.\n",
    "    3. As informações vêm no formato (cpf, valor_devido, qtde de dias) da lista 'clientes_devedores', já presente no código. "
   ]
  },
  {
   "cell_type": "code",
   "execution_count": null,
   "id": "0efa4fa0",
   "metadata": {},
   "outputs": [],
   "source": [
    "clientes_devedores = [('462.286.561-65',14405,24),('251.569.170-81',16027,1),('297.681.579-21',8177,28),('790.223.154-40',9585,10),('810.442.219-10',18826,29),('419.210.299-79',11421,15),('908.507.760-43',12445,24),('911.238.364-17',1345,4),('131.115.339-28',11625,8),('204.169.467-27',5364,22),('470.806.376-11',932,29),('938.608.980-69',13809,19),('554.684.165-26',11227,2),('119.225.846-34',4475,9),('358.890.858-95',13932,20),('786.547.940-70',17048,25),('468.487.741-94',2902,8),('540.685.100-32',5806,21),('379.729.796-80',7622,24),('980.173.363-94',13167,24),('833.285.374-56',19581,24),('103.669.436-50',17126,4),('386.836.124-46',18825,11),('588.404.964-15',1545,30),('600.556.177-18',1921,7),('670.346.230-99',18079,28),('771.352.915-13',16581,23),('430.314.324-46',13942,24),('629.507.759-51',17951,11),('348.683.225-73',12424,10),('406.133.151-17',5888,30),('310.985.894-64',17316,30),('964.317.132-30',18818,30),('845.331.524-14',14284,13),('781.995.738-18',19369,29),('921.558.128-63',3206,27),('941.386.982-65',10228,26),('551.135.290-10',18822,18),('537.124.578-35',12670,6),('119.383.169-76',790,20),('938.473.410-98',8851,5),('279.775.182-54',5212,20),('210.872.954-53',13569,8),('684.995.531-65',8649,21),('653.886.282-57',504,28),('973.580.738-53',2533,9),('285.864.892-85',8200,21),('777.154.423-98',10336,8),('769.786.401-34',3233,12),('521.566.565-97',11882,14),('491.799.681-92',653,8),('344.357.819-36',8856,18),('265.362.581-99',8962,8),('331.410.527-56',18516,18),('143.188.958-61',7234,29),('751.630.472-61',13552,6),('714.707.807-80',2898,7),('585.584.932-83',239,25),('165.554.107-13',9572,23),('718.225.984-87',10534,25),('611.715.653-32',3210,11),('397.994.286-79',13651,24),('967.160.575-69',8997,25),('369.750.998-94',13952,2),('767.400.554-79',18320,11),('171.104.286-74',5821,21),('152.817.649-24',3358,30),('645.308.846-62',15176,25),('273.884.570-92',4436,13),('888.818.341-45',15730,3),('577.836.712-40',14670,16),('513.529.919-95',4002,1),('201.476.809-95',17442,21),('657.816.571-87',1582,2),('810.494.975-87',2157,9),('531.749.410-17',12355,18),('486.290.887-24',18576,26),('432.376.642-62',8027,23),('207.274.437-91',5125,29),('634.244.673-72',11387,15),('346.871.172-72',8105,23),('166.330.605-50',7865,11),('829.181.731-94',2425,8),('197.305.464-63',9681,8),('887.877.706-59',15681,10),('847.598.885-51',323,23),('817.170.984-26',5169,27),('591.397.550-29',13362,25),('872.733.198-95',5756,18),('615.629.238-82',11678,23),('194.782.846-77',11044,17),('146.392.158-88',6848,4),('240.427.458-70',3906,25),('583.662.427-52',3306,5),('841.627.523-64',4778,4),('985.337.216-77',15308,4),('912.410.722-57',11683,6),('700.720.266-23',12638,21),('605.405.529-53',3831,3),('383.256.402-25',2599,10),('248.103.486-68',9121,1),('261.974.594-90',2139,26),('297.126.704-91',18529,16),('680.569.318-52',10176,23),('296.334.647-38',225,13),('200.761.898-70',16244,20),('258.232.687-17',19462,18),('597.295.672-38',18840,11),('894.479.102-52',11375,12),('556.156.341-36',16269,23),('987.874.553-86',11253,17),('248.927.998-94',6510,1),('852.796.660-25',2662,23),('741.370.204-36',9303,16),('536.714.951-95',2877,23),('320.395.830-44',14554,5),('520.645.562-80',17547,24),('553.700.674-28',3147,14),('913.525.896-32',17651,28),('750.456.495-86',11524,9),('246.171.748-38',15184,4),('760.248.897-67',4953,25),('920.890.990-46',17172,20),('805.469.913-50',17500,21),('878.594.225-48',6255,3),('356.715.924-36',3454,13),('847.150.802-96',8602,22),('625.846.640-53',10888,19),('539.300.108-41',11225,21),('549.151.467-76',1286,21),('738.451.908-29',18905,22),('987.288.834-69',17533,25),('898.532.296-94',9719,11),('620.531.607-13',13584,10),('169.415.202-43',1871,29),('757.885.355-97',18150,28),('252.581.376-21',2497,3),('177.937.460-78',7178,8),('523.895.611-54',9878,26),('883.680.201-23',16761,3),('936.678.268-71',11017,9),('871.912.703-73',1754,9),('957.749.478-56',6914,9),('725.636.354-80',8605,13),('898.316.244-33',14363,12),('894.748.325-28',2764,3),('647.106.954-60',1482,6),('628.716.937-98',14107,8),('332.677.483-83',19146,15),('186.870.928-82',17050,12),('216.248.879-71',4384,16),('287.929.269-44',4894,19),('278.335.932-42',17220,13),('824.107.287-13',11797,7),('535.354.954-30',9195,22),('311.762.241-12',13871,2),('209.759.133-88',13580,21),('505.728.766-53',16950,13),('879.471.988-23',17427,14),('772.329.947-39',3462,8),('321.123.241-10',2592,22),('407.342.963-78',11435,21),('786.935.637-47',14240,9),('461.791.351-55',142,2),('770.920.161-42',1247,24),('639.870.185-59',6430,10),('815.943.237-83',19550,22),('141.774.255-61',17866,13),('379.995.400-37',9503,29),('261.103.178-64',19167,13),('495.461.913-57',12265,29),('498.848.750-79',14549,16),('578.770.731-84',1462,5),('408.987.269-72',5647,28),('191.970.336-40',6313,15),('761.137.848-34',10654,23),('810.512.154-21',14928,1),('256.371.788-38',7085,2),('216.401.188-57',1531,23),('956.318.620-43',6327,22),('986.516.478-33',3866,25),('105.665.555-60',7118,4),('259.228.430-72',1601,8),('133.627.971-58',10142,14),('327.988.845-70',14985,23),('363.167.322-63',17236,7),('189.986.406-38',16888,18),('661.194.373-45',7824,1),('805.728.877-53',514,10),('887.826.412-21',15977,24),('122.975.174-32',9409,25),('456.550.370-55',19922,18),('388.243.133-66',19785,17),('208.788.890-61',11893,22),('881.332.662-49',6344,16),('912.349.944-52',6858,15),('534.904.583-32',9559,11),('825.175.334-25',19805,15),('339.191.298-46',13325,8),('569.993.915-78',4339,15)]"
   ]
  },
  {
   "cell_type": "code",
   "execution_count": null,
   "id": "5887ba03",
   "metadata": {},
   "outputs": [],
   "source": []
  },
  {
   "cell_type": "markdown",
   "id": "4b7b3739",
   "metadata": {},
   "source": [
    "# Parte 2: Introdução à Análise de Dados com Python"
   ]
  },
  {
   "cell_type": "markdown",
   "id": "0233d69e",
   "metadata": {},
   "source": [
    "<img src=\"https://curator-production.s3.us.cloud-object-storage.appdomain.cloud/uploads/md5-c51551ca9adbef53a15766cb93c7db9b-course_card.png\" alt=\"Descrição da Imagem\" width=\"400\"/>"
   ]
  },
  {
   "cell_type": "markdown",
   "id": "6367b101",
   "metadata": {},
   "source": [
    "## Importando módulos e arquivos\n",
    "\n",
    "### O que temos?\n",
    "\n",
    "Temos os dados de 2019 de uma empresa de prestação de serviços. \n",
    "\n",
    "- CadastroFuncionarios\n",
    "- CadastroClientes\n",
    "\n",
    "Obs1: Para ler arquivos csv, temos o read_csv<br>\n",
    "Obs2: Para ler arquivos xlsx (arquivos em excel normais, que não são padrão csv), temos o read_excel"
   ]
  },
  {
   "cell_type": "code",
   "execution_count": 11,
   "id": "8d426b8d",
   "metadata": {},
   "outputs": [
    {
     "data": {
      "text/html": [
       "<div>\n",
       "<style scoped>\n",
       "    .dataframe tbody tr th:only-of-type {\n",
       "        vertical-align: middle;\n",
       "    }\n",
       "\n",
       "    .dataframe tbody tr th {\n",
       "        vertical-align: top;\n",
       "    }\n",
       "\n",
       "    .dataframe thead th {\n",
       "        text-align: right;\n",
       "    }\n",
       "</style>\n",
       "<table border=\"1\" class=\"dataframe\">\n",
       "  <thead>\n",
       "    <tr style=\"text-align: right;\">\n",
       "      <th></th>\n",
       "      <th>ID Funcionário</th>\n",
       "      <th>Estado Civil</th>\n",
       "      <th>Nome Completo</th>\n",
       "      <th>Salario Base</th>\n",
       "      <th>Impostos</th>\n",
       "      <th>Beneficios</th>\n",
       "      <th>VT</th>\n",
       "      <th>VR</th>\n",
       "      <th>Cargo</th>\n",
       "      <th>Area</th>\n",
       "    </tr>\n",
       "  </thead>\n",
       "  <tbody>\n",
       "    <tr>\n",
       "      <th>0</th>\n",
       "      <td>1</td>\n",
       "      <td>C</td>\n",
       "      <td>Gabriel Mesquita</td>\n",
       "      <td>21910</td>\n",
       "      <td>10955.0</td>\n",
       "      <td>4382.0</td>\n",
       "      <td>242</td>\n",
       "      <td>719.04</td>\n",
       "      <td>Diretor</td>\n",
       "      <td>Operações</td>\n",
       "    </tr>\n",
       "    <tr>\n",
       "      <th>1</th>\n",
       "      <td>2</td>\n",
       "      <td>C</td>\n",
       "      <td>João Haddad</td>\n",
       "      <td>5404</td>\n",
       "      <td>2702.0</td>\n",
       "      <td>1080.8</td>\n",
       "      <td>154</td>\n",
       "      <td>574.56</td>\n",
       "      <td>Estagiário</td>\n",
       "      <td>Logística</td>\n",
       "    </tr>\n",
       "    <tr>\n",
       "      <th>2</th>\n",
       "      <td>3</td>\n",
       "      <td>C</td>\n",
       "      <td>Amanda Marques Ribeiro</td>\n",
       "      <td>16066</td>\n",
       "      <td>8033.0</td>\n",
       "      <td>3213.2</td>\n",
       "      <td>154</td>\n",
       "      <td>729.12</td>\n",
       "      <td>Estagiário</td>\n",
       "      <td>Administrativo</td>\n",
       "    </tr>\n",
       "    <tr>\n",
       "      <th>3</th>\n",
       "      <td>4</td>\n",
       "      <td>C</td>\n",
       "      <td>Guilherme Nunez</td>\n",
       "      <td>21305</td>\n",
       "      <td>10652.5</td>\n",
       "      <td>4261.0</td>\n",
       "      <td>220</td>\n",
       "      <td>524.16</td>\n",
       "      <td>Analista</td>\n",
       "      <td>Administrativo</td>\n",
       "    </tr>\n",
       "    <tr>\n",
       "      <th>4</th>\n",
       "      <td>5</td>\n",
       "      <td>C</td>\n",
       "      <td>Adelino Gomes</td>\n",
       "      <td>5098</td>\n",
       "      <td>2549.0</td>\n",
       "      <td>1019.6</td>\n",
       "      <td>176</td>\n",
       "      <td>725.76</td>\n",
       "      <td>Analista</td>\n",
       "      <td>Administrativo</td>\n",
       "    </tr>\n",
       "    <tr>\n",
       "      <th>...</th>\n",
       "      <td>...</td>\n",
       "      <td>...</td>\n",
       "      <td>...</td>\n",
       "      <td>...</td>\n",
       "      <td>...</td>\n",
       "      <td>...</td>\n",
       "      <td>...</td>\n",
       "      <td>...</td>\n",
       "      <td>...</td>\n",
       "      <td>...</td>\n",
       "    </tr>\n",
       "    <tr>\n",
       "      <th>109</th>\n",
       "      <td>143</td>\n",
       "      <td>C</td>\n",
       "      <td>Renan Scharnhorst Ott</td>\n",
       "      <td>10793</td>\n",
       "      <td>5396.5</td>\n",
       "      <td>2158.6</td>\n",
       "      <td>242</td>\n",
       "      <td>514.08</td>\n",
       "      <td>Analista</td>\n",
       "      <td>Logística</td>\n",
       "    </tr>\n",
       "    <tr>\n",
       "      <th>110</th>\n",
       "      <td>144</td>\n",
       "      <td>S</td>\n",
       "      <td>Lucas Brum Pereira</td>\n",
       "      <td>4048</td>\n",
       "      <td>2024.0</td>\n",
       "      <td>809.6</td>\n",
       "      <td>198</td>\n",
       "      <td>796.32</td>\n",
       "      <td>Estagiário</td>\n",
       "      <td>Comercial</td>\n",
       "    </tr>\n",
       "    <tr>\n",
       "      <th>111</th>\n",
       "      <td>148</td>\n",
       "      <td>S</td>\n",
       "      <td>Caio Stellet</td>\n",
       "      <td>24596</td>\n",
       "      <td>12298.0</td>\n",
       "      <td>4919.2</td>\n",
       "      <td>242</td>\n",
       "      <td>561.12</td>\n",
       "      <td>Analista</td>\n",
       "      <td>Administrativo</td>\n",
       "    </tr>\n",
       "    <tr>\n",
       "      <th>112</th>\n",
       "      <td>149</td>\n",
       "      <td>C</td>\n",
       "      <td>Fernanda Rocha</td>\n",
       "      <td>5078</td>\n",
       "      <td>2539.0</td>\n",
       "      <td>1015.6</td>\n",
       "      <td>308</td>\n",
       "      <td>665.28</td>\n",
       "      <td>Estagiário</td>\n",
       "      <td>Comercial</td>\n",
       "    </tr>\n",
       "    <tr>\n",
       "      <th>113</th>\n",
       "      <td>150</td>\n",
       "      <td>C</td>\n",
       "      <td>Eduardo Brum</td>\n",
       "      <td>15939</td>\n",
       "      <td>7969.5</td>\n",
       "      <td>3187.8</td>\n",
       "      <td>220</td>\n",
       "      <td>769.44</td>\n",
       "      <td>Analista</td>\n",
       "      <td>Comercial</td>\n",
       "    </tr>\n",
       "  </tbody>\n",
       "</table>\n",
       "<p>114 rows × 10 columns</p>\n",
       "</div>"
      ],
      "text/plain": [
       "     ID Funcionário Estado Civil           Nome Completo  Salario Base  ...   VT      VR       Cargo            Area\n",
       "0                 1            C        Gabriel Mesquita         21910  ...  242  719.04     Diretor       Operações\n",
       "1                 2            C             João Haddad          5404  ...  154  574.56  Estagiário       Logística\n",
       "2                 3            C  Amanda Marques Ribeiro         16066  ...  154  729.12  Estagiário  Administrativo\n",
       "3                 4            C         Guilherme Nunez         21305  ...  220  524.16    Analista  Administrativo\n",
       "4                 5            C           Adelino Gomes          5098  ...  176  725.76    Analista  Administrativo\n",
       "..              ...          ...                     ...           ...  ...  ...     ...         ...             ...\n",
       "109             143            C   Renan Scharnhorst Ott         10793  ...  242  514.08    Analista       Logística\n",
       "110             144            S      Lucas Brum Pereira          4048  ...  198  796.32  Estagiário       Comercial\n",
       "111             148            S            Caio Stellet         24596  ...  242  561.12    Analista  Administrativo\n",
       "112             149            C          Fernanda Rocha          5078  ...  308  665.28  Estagiário       Comercial\n",
       "113             150            C            Eduardo Brum         15939  ...  220  769.44    Analista       Comercial\n",
       "\n",
       "[114 rows x 10 columns]"
      ]
     },
     "metadata": {},
     "output_type": "display_data"
    },
    {
     "data": {
      "text/html": [
       "<div>\n",
       "<style scoped>\n",
       "    .dataframe tbody tr th:only-of-type {\n",
       "        vertical-align: middle;\n",
       "    }\n",
       "\n",
       "    .dataframe tbody tr th {\n",
       "        vertical-align: top;\n",
       "    }\n",
       "\n",
       "    .dataframe thead th {\n",
       "        text-align: right;\n",
       "    }\n",
       "</style>\n",
       "<table border=\"1\" class=\"dataframe\">\n",
       "  <thead>\n",
       "    <tr style=\"text-align: right;\">\n",
       "      <th></th>\n",
       "      <th>ID Cliente</th>\n",
       "      <th>Cliente</th>\n",
       "      <th>Valor Contrato Mensal</th>\n",
       "    </tr>\n",
       "  </thead>\n",
       "  <tbody>\n",
       "    <tr>\n",
       "      <th>0</th>\n",
       "      <td>1</td>\n",
       "      <td>Teixeira Gonçalves</td>\n",
       "      <td>540</td>\n",
       "    </tr>\n",
       "    <tr>\n",
       "      <th>1</th>\n",
       "      <td>2</td>\n",
       "      <td>Souza Santos</td>\n",
       "      <td>1260</td>\n",
       "    </tr>\n",
       "    <tr>\n",
       "      <th>2</th>\n",
       "      <td>3</td>\n",
       "      <td>Emídio Alves</td>\n",
       "      <td>3195</td>\n",
       "    </tr>\n",
       "    <tr>\n",
       "      <th>3</th>\n",
       "      <td>4</td>\n",
       "      <td>Santos Costa</td>\n",
       "      <td>2520</td>\n",
       "    </tr>\n",
       "    <tr>\n",
       "      <th>4</th>\n",
       "      <td>5</td>\n",
       "      <td>Do Monteiro</td>\n",
       "      <td>3510</td>\n",
       "    </tr>\n",
       "    <tr>\n",
       "      <th>...</th>\n",
       "      <td>...</td>\n",
       "      <td>...</td>\n",
       "      <td>...</td>\n",
       "    </tr>\n",
       "    <tr>\n",
       "      <th>315</th>\n",
       "      <td>316</td>\n",
       "      <td>Manoel Costa</td>\n",
       "      <td>3690</td>\n",
       "    </tr>\n",
       "    <tr>\n",
       "      <th>316</th>\n",
       "      <td>317</td>\n",
       "      <td>Gomes Machado</td>\n",
       "      <td>2385</td>\n",
       "    </tr>\n",
       "    <tr>\n",
       "      <th>317</th>\n",
       "      <td>318</td>\n",
       "      <td>Alkindar Cardozo</td>\n",
       "      <td>3510</td>\n",
       "    </tr>\n",
       "    <tr>\n",
       "      <th>318</th>\n",
       "      <td>319</td>\n",
       "      <td>Pereira Fazenda</td>\n",
       "      <td>4185</td>\n",
       "    </tr>\n",
       "    <tr>\n",
       "      <th>319</th>\n",
       "      <td>320</td>\n",
       "      <td>Americo Damasceno</td>\n",
       "      <td>2430</td>\n",
       "    </tr>\n",
       "  </tbody>\n",
       "</table>\n",
       "<p>320 rows × 3 columns</p>\n",
       "</div>"
      ],
      "text/plain": [
       "     ID Cliente             Cliente  Valor Contrato Mensal\n",
       "0             1  Teixeira Gonçalves                    540\n",
       "1             2        Souza Santos                   1260\n",
       "2             3        Emídio Alves                   3195\n",
       "3             4        Santos Costa                   2520\n",
       "4             5         Do Monteiro                   3510\n",
       "..          ...                 ...                    ...\n",
       "315         316        Manoel Costa                   3690\n",
       "316         317       Gomes Machado                   2385\n",
       "317         318    Alkindar Cardozo                   3510\n",
       "318         319     Pereira Fazenda                   4185\n",
       "319         320   Americo Damasceno                   2430\n",
       "\n",
       "[320 rows x 3 columns]"
      ]
     },
     "metadata": {},
     "output_type": "display_data"
    }
   ],
   "source": [
    "import pandas as pd\n",
    "\n",
    "funcionarios_df = pd.read_csv('https://raw.githubusercontent.com/ksddavila/treinamento_intro_python_chatgpt/main/CadastroFuncionarios.csv', sep=';', decimal=',')\n",
    "clientes_df = pd.read_csv('https://raw.githubusercontent.com/ksddavila/treinamento_intro_python_chatgpt/main/CadastroClientes.csv', sep=';', decimal=',')\n",
    "\n",
    "display(funcionarios_df)\n",
    "display(clientes_df)"
   ]
  },
  {
   "cell_type": "markdown",
   "id": "9441c373",
   "metadata": {},
   "source": [
    "## 2.1 Folha de pagamento"
   ]
  },
  {
   "cell_type": "markdown",
   "id": "35b7c772",
   "metadata": {},
   "source": [
    "# < Prompt >\n",
    "\n",
    "Em Python, temos os dados de 2019 de uma empresa de prestação de serviços, com os seguintes dataframes:\n",
    "\n",
    "- CadastroFuncionarios --> Dataframe: funcionarios_df\n",
    "- CadastroClientes --> Dataframe: clientes_df\n",
    "\n",
    "Quero saber: Valor Total da Folha Salarial -> Qual foi o gasto total com salários de funcionários pela empresa? \n",
    "\n",
    "<br>\n",
    "\n",
    "* Use o dataframe 'funcionarios_df';\n",
    "* Some as colunas que compõem o salário para gerar a coluna 'Salario Total': 'Salario Base' + 'Impostos' + 'Beneficios' + 'VT' + 'VR'\n",
    "* Faça um gráfico de barras que exiba o valor de 'Salario Total' para cada 'Area'. \n",
    "* Some o valor total da coluna 'Salario Total' e exiba um print com o Valor Total da Folha Salarial. "
   ]
  },
  {
   "cell_type": "code",
   "execution_count": null,
   "id": "ff439a50",
   "metadata": {},
   "outputs": [],
   "source": []
  },
  {
   "cell_type": "markdown",
   "id": "4b43ceed",
   "metadata": {},
   "source": [
    "## 2.2 Funcionários por área"
   ]
  },
  {
   "cell_type": "markdown",
   "id": "3318b84e",
   "metadata": {},
   "source": [
    "# < Prompt >\n",
    "\n",
    "Preciso saber a contagem de funcionários por área nessa empresa. Para isso, use funcionarios_df:\n",
    "- Conte a quantidade de 'ID Funcionário' distintos para cada 'Area';\n",
    "- Plote um gráfico de barras para visualizar o resultado. \n",
    "- Exiba esse resultado também em um dataframe."
   ]
  },
  {
   "cell_type": "code",
   "execution_count": null,
   "id": "05ee48a6",
   "metadata": {},
   "outputs": [],
   "source": []
  },
  {
   "cell_type": "markdown",
   "id": "7f5c3de3",
   "metadata": {},
   "source": [
    "## 2.3 Ticket médio mensal"
   ]
  },
  {
   "cell_type": "markdown",
   "id": "0250d843",
   "metadata": {},
   "source": [
    "# < Prompt >\n",
    "\n",
    "Calcule o ticket médio mensal a partir do Dataframe: clientes_df, utilizando a coluna 'Valor Contrato Mensal'. Exiba a saída em reais e duas casas decimais.  "
   ]
  },
  {
   "cell_type": "code",
   "execution_count": null,
   "id": "89c52459",
   "metadata": {},
   "outputs": [],
   "source": []
  }
 ],
 "metadata": {
  "kernelspec": {
   "display_name": "Python 3 (ipykernel)",
   "language": "python",
   "name": "python3"
  },
  "language_info": {
   "codemirror_mode": {
    "name": "ipython",
    "version": 3
   },
   "file_extension": ".py",
   "mimetype": "text/x-python",
   "name": "python",
   "nbconvert_exporter": "python",
   "pygments_lexer": "ipython3",
   "version": "3.11.4"
  }
 },
 "nbformat": 4,
 "nbformat_minor": 5
}
